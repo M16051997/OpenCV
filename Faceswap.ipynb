{
 "cells": [
  {
   "cell_type": "code",
   "execution_count": 1,
   "metadata": {},
   "outputs": [],
   "source": [
    "import cv2 as cv\n",
    "import dlib\n",
    "import numpy as np\n",
    "\n",
    "Kutty_Pastor = cv.imread(r\"C:\\Users\\50510\\Desktop\\Kutty_Pastor.jpg\")\n",
    "Ashok = cv.imread(r\"C:\\Users\\50510\\Desktop\\Ashok.png\")"
   ]
  },
  {
   "cell_type": "code",
   "execution_count": 7,
   "metadata": {},
   "outputs": [],
   "source": [
    "# Load the shape predictor and the face detector\n",
    "detector = dlib.get_frontal_face_detector()\n",
    "predictor = dlib.shape_predictor(\"shape_predictor_68_face_landmarks.dat\")\n",
    "\n",
    "# Load the images\n",
    "image1 = cv.imread(r\"C:\\Users\\50510\\Desktop\\Kutty_Pastor.jpg\")\n",
    "image2 = cv.imread(r\"C:\\Users\\50510\\Desktop\\Ashok.png\")\n",
    "\n",
    "# Detect faces in the images\n",
    "faces1 = detector(image1, 1)\n",
    "faces2 = detector(image2, 1)\n",
    "\n",
    "if len(faces1) > 0 and len(faces2) > 0:\n",
    "    face1 = faces1[0]\n",
    "    face2 = faces2[0]\n",
    "\n",
    "    # Find the facial landmarks\n",
    "    landmarks1 = predictor(image1, face1)\n",
    "    landmarks2 = predictor(image2, face2)\n",
    "\n",
    "    # Swap the faces\n",
    "    for i in range(68):\n",
    "        (x1, y1) = (landmarks1.part(i).x, landmarks1.part(i).y)\n",
    "        (x2, y2) = (landmarks2.part(i).x, landmarks2.part(i).y)\n",
    "        image2[y2, x2] = image1[y1, x1]\n",
    "\n",
    "    # Display the modified image\n",
    "    cv.imshow(\"Face Swapped Image\", image2)\n",
    "    cv.waitKey(0)\n",
    "    cv.destroyAllWindows()\n",
    "else:\n",
    "    print(\"No faces detected in one or both images.\")\n"
   ]
  }
 ],
 "metadata": {
  "kernelspec": {
   "display_name": ".venv",
   "language": "python",
   "name": "python3"
  },
  "language_info": {
   "codemirror_mode": {
    "name": "ipython",
    "version": 3
   },
   "file_extension": ".py",
   "mimetype": "text/x-python",
   "name": "python",
   "nbconvert_exporter": "python",
   "pygments_lexer": "ipython3",
   "version": "3.10.0"
  }
 },
 "nbformat": 4,
 "nbformat_minor": 2
}
