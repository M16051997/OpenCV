{
 "cells": [
  {
   "cell_type": "code",
   "execution_count": 5,
   "metadata": {},
   "outputs": [],
   "source": [
    "import cv2 as cv\n",
    "\n",
    "img = cv.imread(r'F:\\Open CV\\F0#B1000600559982#.pdf_dir\\0_F0#B1000600559982#.pdf.jpg')\n",
    "cv.imshow('image', img)\n",
    "\n",
    "cv.waitKey(2000)\n",
    "cv.destroyAllWindows()"
   ]
  },
  {
   "cell_type": "markdown",
   "metadata": {},
   "source": [
    "#### Reading Videos"
   ]
  },
  {
   "cell_type": "code",
   "execution_count": 9,
   "metadata": {},
   "outputs": [
    {
     "name": "stdout",
     "output_type": "stream",
     "text": [
      "Can't receive frame (stream end?). Exiting ...\n"
     ]
    }
   ],
   "source": [
    "cap = cv.VideoCapture(r\"F:\\Pytube\\YouTube Rewind 2019 For the Record  YouTubeRewind.3gpp\")\n",
    "\n",
    "# Check if the video file can be opened\n",
    "if not cap.isOpened():\n",
    "    print(\"Error opening video file\")\n",
    "\n",
    "# Read the video frame by frame\n",
    "while cap.isOpened():\n",
    "    ret, frame = cap.read()\n",
    "\n",
    "    # If frame is read correctly ret is True\n",
    "    if not ret:\n",
    "        print(\"Can't receive frame (stream end?). Exiting ...\")\n",
    "        break\n",
    "\n",
    "    # Display the resulting frame\n",
    "    cv.imshow('Frame', frame)\n",
    "\n",
    "    # Exit if 'q' is pressed\n",
    "    if cv.waitKey(1) & 0xFF == ord('q'):\n",
    "        break\n",
    "\n",
    "# Release the VideoCapture object and close the windows\n",
    "cap.release()\n",
    "cv.destroyAllWindows()"
   ]
  },
  {
   "cell_type": "markdown",
   "metadata": {},
   "source": [
    "#### Resizing and Rescaling frames"
   ]
  },
  {
   "cell_type": "code",
   "execution_count": 2,
   "metadata": {},
   "outputs": [
    {
     "data": {
      "text/plain": [
       "-1"
      ]
     },
     "execution_count": 2,
     "metadata": {},
     "output_type": "execute_result"
    }
   ],
   "source": [
    "## Rescaling downsize width and height\n",
    "\n",
    "import cv2 as cv\n",
    "\n",
    "img = cv.imread(r'F:\\Open CV\\F0#B1000600559982#.pdf_dir\\0_F0#B1000600559982#.pdf.jpg')\n",
    "cv.imshow('Cat', img)\n",
    "\n",
    "def rescaleFrame(Frame, scale = 0.75):\n",
    "    width = int(Frame.shape[1] * scale)\n",
    "    height = int(Frame.shape[0] * scale)\n",
    "    dimensions = (width, height)\n",
    "\n",
    "    return cv.resize(Frame, dimensions, interpolation=cv.INTER_AREA)\n",
    "\n",
    "cv.waitKey(0)"
   ]
  },
  {
   "cell_type": "code",
   "execution_count": 34,
   "metadata": {},
   "outputs": [],
   "source": [
    "## Resize\n",
    "\n",
    "import cv2 as cv\n",
    "img = r\"F:\\Open CV\\ImagesData\\test1\\29.jpg\"\n",
    "#Read the Image\n",
    "image = cv.imread(img)\n",
    "\n",
    "resiae = cv.resize(image, (250,250), interpolation=cv.INTER_CUBIC)\n",
    "cv.imshow('resiae', resiae)\n",
    "cv.waitKey(0)\n",
    "cv.destroyAllWindows()\n"
   ]
  },
  {
   "cell_type": "markdown",
   "metadata": {},
   "source": [
    "#### Flipping Image\n",
    "\n",
    "    Flipping an image is a simple yet powerful transformation that can be used for tasks such as mirroring, orientation correction, or generating additional training data for machine learning models."
   ]
  },
  {
   "cell_type": "code",
   "execution_count": 63,
   "metadata": {},
   "outputs": [],
   "source": [
    "flip = cv.flip(img, 10)\n",
    "cv.imshow('Flip', flip)\n",
    "cv.waitKey(0)\n",
    "cv.destroyAllWindows()"
   ]
  },
  {
   "cell_type": "markdown",
   "metadata": {},
   "source": [
    "#### Converting to grayscale"
   ]
  },
  {
   "cell_type": "code",
   "execution_count": 35,
   "metadata": {},
   "outputs": [],
   "source": [
    "import cv2 as cv\n",
    "img = r\"F:\\Open CV\\ImagesData\\train\\cat.20.jpg\"\n",
    "\n",
    "#Read the Image\n",
    "image = cv.imread(img)\n",
    "\n",
    "gray = cv.cvtColor(image, cv.COLOR_BGR2GRAY)\n",
    "cv.imshow('Gray', gray)\n",
    "cv.waitKey(2000)\n",
    "cv.destroyAllWindows()"
   ]
  },
  {
   "cell_type": "markdown",
   "metadata": {},
   "source": [
    "#### Blur the Image"
   ]
  },
  {
   "cell_type": "code",
   "execution_count": 12,
   "metadata": {},
   "outputs": [],
   "source": [
    "blur = cv.blur(image, ksize=(17,17))\n",
    "cv.imshow('Blur', blur)\n",
    "cv.waitKey(0)\n",
    "cv.destroyAllWindows()"
   ]
  },
  {
   "cell_type": "markdown",
   "metadata": {},
   "source": [
    "#### Edge Cascade\n",
    "\n",
    "        In OpenCV, the term \"edge cascade\" might refer to a feature in the Canny edge detector, which is an edge detection operator that uses a multi-stage algorithm to detect a wide range of edges in images. The Canny edge detector is popular in computer vision applications due to its effectiveness in identifying a wide range of edges while minimizing the number of false positives."
   ]
  },
  {
   "cell_type": "code",
   "execution_count": 17,
   "metadata": {},
   "outputs": [],
   "source": [
    "import cv2 as cv\n",
    "img = r\"F:\\Open CV\\ImagesData\\test1\\31.jpg\"\n",
    "\n",
    "#Read the Image\n",
    "image = cv.imread(img)\n",
    "\n",
    "canny = cv.Canny(image, 125, 185)\n",
    "cv.imshow('canny', canny)\n",
    "cv.waitKey(0)\n",
    "cv.destroyAllWindows()"
   ]
  },
  {
   "cell_type": "markdown",
   "metadata": {},
   "source": [
    "####  Dilating the image\n",
    "\n",
    "    Dilating an image is a fundamental operation in the field of image processing, used to enhance and emphasize the boundaries of objects in an image. It is a part of the broader image processing technique known as mathematical morphology. In OpenCV, the cv.dilate function is used to perform image dilation.\n",
    "\n",
    "    The function takes the following parameters:\n",
    "\n",
    "    The first parameter, canny, represents the input image or the image to be processed. This image is typically the result of some form of edge detection or binary thresholding.\n",
    "    The second parameter, (7, 7), represents the size of the kernel or the structuring element used for the dilation operation. In this case, it is a 7x7 square-shaped kernel. The kernel defines the area to be considered around a pixel during the dilation process.\n",
    "    The third parameter, iterations=3, represents the number of times the dilation operation is applied to the image. In this case, the dilation is performed three times.\n",
    "\n",
    "    The resulting dilated image, which is obtained after applying the cv.dilate function, will typically have thicker and more pronounced edges, making it easier to detect objects or perform certain types of analysis, such as feature extraction or segmentation. "
   ]
  },
  {
   "cell_type": "code",
   "execution_count": 31,
   "metadata": {},
   "outputs": [],
   "source": [
    "import cv2 as cv\n",
    "img = r\"F:\\Open CV\\ImagesData\\test1\\29.jpg\"\n",
    "\n",
    "#Read the Image\n",
    "image = cv.imread(img)\n",
    "\n",
    "canny = cv.Canny(image, 125, 185)\n",
    "\n",
    "dilated = cv.dilate(canny, (7,7), iterations=1)\n",
    "cv.imshow('canny', dilated)\n",
    "cv.waitKey(0)\n",
    "cv.destroyAllWindows()"
   ]
  },
  {
   "cell_type": "markdown",
   "metadata": {},
   "source": [
    "#### Erosing\n",
    "\n",
    "    Erosion is another fundamental operation in image processing, often used in combination with dilation. Similar to dilation, erosion is part of the mathematical morphology operations and is performed using the cv.erode function in OpenCV.\n",
    "\n",
    "    Here is a brief explanation of the cv.erode function\n",
    "\n",
    "    eroded = cv.erode(image, kernel, iterations=1)\n",
    "    cv.imshow('Eroded', eroded)\n",
    "\n",
    "    During the erosion process, the kernel is used to slide over the image. For each pixel in the image, the corresponding pixel value in the output image is determined by taking the minimum value of the pixels covered by the kernel. This operation has the effect of shrinking the white regions or bright areas in the image, making the boundaries of objects thinner.\n",
    "\n",
    "    Erosion is typically used for tasks such as reducing noise, separating overlapping objects, or smoothing the boundaries of objects in an image. The cv.imshow function is used to display the eroded image."
   ]
  },
  {
   "cell_type": "code",
   "execution_count": 32,
   "metadata": {},
   "outputs": [],
   "source": [
    "import cv2 as cv\n",
    "img = r\"F:\\Open CV\\ImagesData\\test1\\29.jpg\"\n",
    "\n",
    "#Read the Image\n",
    "image = cv.imread(img)\n",
    "\n",
    "# Eroding\n",
    "eroded = cv.erode(dilated, (7,7), iterations=3)\n",
    "cv.imshow('Eroded', eroded)\n",
    "cv.waitKey(0)\n",
    "cv.destroyAllWindows()"
   ]
  },
  {
   "cell_type": "markdown",
   "metadata": {},
   "source": [
    "#### Blank Array\n",
    "\n",
    "    The purpose of creating this blank array is often for tasks such as initializing a canvas for drawing or creating a mask for operations like image segmentation or manipulation. This blank array can be used as a placeholder for various image processing tasks, where you might want to perform operations or draw on a separate image without modifying the original image."
   ]
  },
  {
   "cell_type": "code",
   "execution_count": 37,
   "metadata": {},
   "outputs": [],
   "source": [
    "import cv2 as cv\n",
    "import numpy as np\n",
    "img = r\"F:\\Open CV\\ImagesData\\test1\\29.jpg\"\n",
    "\n",
    "#Read the Image\n",
    "image = cv.imread(img)\n",
    "\n",
    "blank = np.zeros(image.shape, dtype='uint8')\n",
    "cv.imshow('Blank', blank)\n",
    "cv.waitKey(0)\n",
    "cv.destroyAllWindows()"
   ]
  },
  {
   "cell_type": "code",
   "execution_count": 38,
   "metadata": {},
   "outputs": [
    {
     "data": {
      "text/plain": [
       "(365, 500, 3)"
      ]
     },
     "execution_count": 38,
     "metadata": {},
     "output_type": "execute_result"
    }
   ],
   "source": [
    "image.shape"
   ]
  },
  {
   "cell_type": "code",
   "execution_count": 45,
   "metadata": {},
   "outputs": [],
   "source": [
    "blank = np.zeros((500, 500, 3), dtype='uint8') #  500x500 pixel image with 3 color channels (commonly representing red, green, and blue in that order) \n",
    "cv.imshow('Blank', blank)\n",
    "\n",
    "cv.waitKey(0)\n",
    "cv.destroyAllWindows()"
   ]
  },
  {
   "cell_type": "markdown",
   "metadata": {},
   "source": [
    "#### Thresholding\n",
    "\n",
    "    Thresholding is a widely used technique in image processing and computer vision, often used for image segmentation. OpenCV provides various thresholding techniques that allow you to convert a grayscale image into a binary image, where the pixel values are either 0 or 255, depending on whether they are above or below a specified threshold value.\n",
    "\n",
    "    The function returns two values: the first one is a return value, which can be ignored using an underscore _ as a placeholder. The second return value, thresh, is the thresholded image.\n",
    "\n",
    "    Thresholding is useful for tasks such as image segmentation, object detection, and feature extraction, as it simplifies complex images into binary representations that can be easily processed and analyzed."
   ]
  },
  {
   "cell_type": "code",
   "execution_count": 47,
   "metadata": {},
   "outputs": [],
   "source": [
    "import cv2 as cv\n",
    "\n",
    "img = cv.imread(r'F:\\Open CV\\ImagesData\\test1\\43.jpg')\n",
    "cv.imshow('Cats', img)\n",
    "\n",
    "gray = cv.cvtColor(img, cv.COLOR_BGR2GRAY)\n",
    "cv.imshow('Gray', gray)\n",
    "\n",
    "cv.waitKey(0)\n",
    "cv.destroyAllWindows()"
   ]
  },
  {
   "cell_type": "code",
   "execution_count": 48,
   "metadata": {},
   "outputs": [],
   "source": [
    "# Simple Thresholding\n",
    "\n",
    "threshold, thresh = cv.threshold(gray, 150, 255, cv.THRESH_BINARY)\n",
    "cv.imshow('Simple Thresholded', thresh)\n",
    "\n",
    "cv.waitKey(0)\n",
    "cv.destroyAllWindows()"
   ]
  },
  {
   "cell_type": "code",
   "execution_count": 49,
   "metadata": {},
   "outputs": [],
   "source": [
    "# Simple Thresholding\n",
    "\n",
    "threshold, thresh_inv = cv.threshold(gray, 150, 255, cv.THRESH_BINARY_INV)\n",
    "cv.imshow('Simple Thresholded', thresh_inv)\n",
    "\n",
    "cv.waitKey(0)\n",
    "cv.destroyAllWindows()"
   ]
  },
  {
   "cell_type": "code",
   "execution_count": 53,
   "metadata": {},
   "outputs": [],
   "source": [
    "# Simple Thresholding\n",
    "\n",
    "threshold, thresh_inv = cv.threshold(gray, 150, 255, cv.THRESH_TOZERO)\n",
    "cv.imshow('Simple Thresholded', thresh_inv)\n",
    "\n",
    "\n",
    "cv.waitKey(0)\n",
    "cv.destroyAllWindows()"
   ]
  },
  {
   "cell_type": "code",
   "execution_count": 54,
   "metadata": {},
   "outputs": [],
   "source": [
    "# Adaptive Thresholding\n",
    "adaptive_thresh = cv.adaptiveThreshold(gray, 255, cv.ADAPTIVE_THRESH_GAUSSIAN_C, cv.THRESH_BINARY_INV, 11, 9)\n",
    "cv.imshow('Adaptive Thresholding', adaptive_thresh)\n",
    "\n",
    "cv.waitKey(0)\n",
    "cv.destroyAllWindows()"
   ]
  },
  {
   "cell_type": "markdown",
   "metadata": {},
   "source": [
    "#### Image Translation\n",
    "\n",
    "    In the provided code, the translation function is used to shift or move the image in the x and y directions by specific pixel values. This type of transformation can be useful in various image processing and computer vision tasks for the following purposes:\n",
    "\n",
    "    Region of Interest (ROI) Selection: Image translation can be employed to select a specific region of interest (ROI) within an image by shifting the region to the desired location. This can be beneficial when focusing on specific areas for analysis or processing.\n",
    "\n",
    "    Image Alignment: Translation can be used for aligning images that are taken from different viewpoints or angles. By shifting the images appropriately, they can be aligned with each other for tasks like image stitching or creating panoramas.\n",
    "\n",
    "    Data Augmentation for Training Data: In machine learning and computer vision applications, image translation can be employed as a form of data augmentation. By shifting the images in different directions, it is possible to generate additional training data to improve the robustness and generalization of machine learning models.\n",
    "\n",
    "    Image Processing and Analysis: Translation can be used as a preprocessing step for further image processing tasks such as object detection, recognition, or segmentation. By adjusting the position of the image, it becomes easier to locate specific objects or features within the image.\n",
    "\n",
    "    Compensation for Camera Movement: In the case of image stabilization or video processing, translation can be used to compensate for camera shake or movement. By applying an inverse translation to the frames, it is possible to stabilize the images or videos and improve their visual quality.\n",
    "\n",
    "    In the specific case of the provided code, the translation function shifts the image 100 pixels to the left and 100 pixels downwards. This can be helpful in scenarios where adjusting the position of the image is necessary, such as for better visualization or alignment with other images or objects."
   ]
  },
  {
   "cell_type": "code",
   "execution_count": 57,
   "metadata": {},
   "outputs": [],
   "source": [
    "import cv2 as cv\n",
    "import numpy as np\n",
    "\n",
    "img = cv.imread(r'F:\\Open CV\\ImagesData\\test1\\43.jpg')\n",
    "cv.imshow('Park', img)\n",
    "\n",
    "def translation(img, x, y):\n",
    "    transMat = np.float32([[1, 0, x], [0, 1, y]])\n",
    "    dimensions = (img.shape[1], img.shape[0])\n",
    "    return cv.warpAffine(img, transMat, dimensions)\n",
    "\n",
    "translated = translation(img, -100, 100)\n",
    "cv.imshow('translated', translated)\n",
    "cv.waitKey(0)\n",
    "cv.destroyAllWindows()\n"
   ]
  },
  {
   "cell_type": "markdown",
   "metadata": {},
   "source": [
    "####  Rotation\n",
    "\n",
    "    In OpenCV, rotation refers to the process of rotating an image by a specified angle around a chosen point within the image. It is a common image transformation technique used in various computer vision applications. OpenCV provides functions to perform rotation operations on images.\n",
    "\n",
    "    In the code snippet above, the cv.getRotationMatrix2D function is used to obtain the rotation matrix based on the desired rotation angle and the rotation center. The rotation center is often set as the center of the image. The obtained rotation matrix is then applied to the image using the cv.warpAffine function to perform the actual rotation. Finally, the original and rotated images are displayed in separate windows.\n",
    "\n",
    "    This is a basic example of how to perform image rotation using OpenCV. Rotation can be helpful for tasks such as image alignment, correction of image orientation, or data augmentation for training machine learning models."
   ]
  },
  {
   "cell_type": "code",
   "execution_count": 58,
   "metadata": {},
   "outputs": [],
   "source": [
    "img = cv.imread(r'F:\\Open CV\\ImagesData\\test1\\43.jpg')\n",
    "\n",
    "# Define Rotation Angle & Centre\n",
    "angle = 45\n",
    "rotation_centre = (img.shape[1]//2, img.shape[0]//2)  # Centre of the Image\n",
    "\n",
    "# Get Rotaion Matrix\n",
    "\n",
    "rotation_matrix = cv.getRotationMatrix2D(rotation_centre, angle, 1.0)\n",
    "\n",
    "# Perform the Rotation\n",
    "\n",
    "rotated_img = cv.warpAffine(img, rotation_matrix, (img.shape[1], img.shape[0]))\n",
    "\n",
    "cv.imshow(\"Original Image\", img)\n",
    "cv. imshow(\"Rotated Image\", rotated_img)\n",
    "cv.waitKey(0)\n",
    "cv.destroyAllWindows()"
   ]
  },
  {
   "cell_type": "code",
   "execution_count": 60,
   "metadata": {},
   "outputs": [],
   "source": [
    "# Rotaion\n",
    "\n",
    "def rotate(img, angle, rotPoint = None):\n",
    "    (height, width) = img.shape[:2]\n",
    "\n",
    "    if rotPoint is None:\n",
    "        rotPoint = (width//2, height//2)\n",
    "\n",
    "    rotMat = cv.getRotationMatrix2D(rotPoint, angle, 1.0)\n",
    "    dimensions = (width, height)\n",
    "\n",
    "    return cv.warpAffine(img, rotMat, dimensions)\n",
    "\n",
    "rotated = rotate(img, -90)\n",
    "cv.imshow('Rotated', rotated)\n",
    "cv.waitKey(0)\n",
    "cv.destroyAllWindows()"
   ]
  },
  {
   "cell_type": "code",
   "execution_count": null,
   "metadata": {},
   "outputs": [],
   "source": []
  }
 ],
 "metadata": {
  "kernelspec": {
   "display_name": ".venv",
   "language": "python",
   "name": "python3"
  },
  "language_info": {
   "codemirror_mode": {
    "name": "ipython",
    "version": 3
   },
   "file_extension": ".py",
   "mimetype": "text/x-python",
   "name": "python",
   "nbconvert_exporter": "python",
   "pygments_lexer": "ipython3",
   "version": "3.10.0"
  }
 },
 "nbformat": 4,
 "nbformat_minor": 2
}
